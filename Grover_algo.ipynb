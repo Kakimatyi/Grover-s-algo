{
 "cells": [
  {
   "cell_type": "code",
   "execution_count": 23,
   "metadata": {},
   "outputs": [],
   "source": [
    "import numpy as np\n",
    "import random\n",
    "import matplotlib.pyplot as plt\n",
    "\n",
    "# importing Qiskit\n",
    "from qiskit import *\n",
    "#from qiskit.aqua.algorithms import Grover\n",
    "#from qiskit.aqua.components.oracles import TruthTableOracle\n",
    "from qiskit import QuantumCircuit\n",
    "from qiskit.algorithms import AmplificationProblem\n",
    "from qiskit.quantum_info import Statevector\n",
    "from qiskit.algorithms import Grover\n",
    "from qiskit.visualization import plot_histogram\n",
    "from qiskit.tools.monitor import job_monitor"
   ]
  },
  {
   "cell_type": "markdown",
   "metadata": {},
   "source": [
    "### Keresés random adatbázisban klasszikusan"
   ]
  },
  {
   "cell_type": "code",
   "execution_count": 24,
   "metadata": {},
   "outputs": [
    {
     "name": "stdout",
     "output_type": "stream",
     "text": [
      "Átlagos futási szám: 5.614\n"
     ]
    }
   ],
   "source": [
    "\n",
    "def oracle1(input):\n",
    "    value = 6\n",
    "    if input == value:\n",
    "        return True\n",
    "    else: return False\n",
    "\n",
    "l = []\n",
    "for i in range(1000):    \n",
    "\n",
    "    randlist = random.sample(range(0,10), 10)\n",
    "\n",
    "    #print(randlist)\n",
    "\n",
    "    for index, value in enumerate(randlist):\n",
    "        if oracle1(value) == True:\n",
    "            #print(\"pozíció: \", index)\n",
    "            #print(\"futtatások száma:\", index+1)\n",
    "            l.append(index+1)\n",
    "            break\n",
    "print(\"Átlagos futási szám:\", np.mean(l))\n",
    "\n",
    "    "
   ]
  },
  {
   "cell_type": "markdown",
   "metadata": {},
   "source": [
    "### Kvantumosan, Grover algoritmussal"
   ]
  },
  {
   "cell_type": "code",
   "execution_count": 25,
   "metadata": {},
   "outputs": [
    {
     "data": {
      "text/html": [
       "<pre style=\"word-wrap: normal;white-space: pre;background: #fff0;line-height: 1.1;font-family: &quot;Courier New&quot;,Courier,monospace\">        \n",
       "q_0: ─■─\n",
       "      │ \n",
       "q_1: ─■─\n",
       "        </pre>"
      ],
      "text/plain": [
       "        \n",
       "q_0: ─■─\n",
       "      │ \n",
       "q_1: ─■─\n",
       "        "
      ]
     },
     "execution_count": 25,
     "metadata": {},
     "output_type": "execute_result"
    }
   ],
   "source": [
    "#prepare the oracle as a controlled z gate\n",
    "oracle = QuantumCircuit(2, name = 'oracle')\n",
    "oracle.cz(0,1)\n",
    "oracle.to_gate()\n",
    "oracle.draw()\n",
    "\n"
   ]
  },
  {
   "cell_type": "code",
   "execution_count": 26,
   "metadata": {},
   "outputs": [
    {
     "data": {
      "text/html": [
       "<pre style=\"word-wrap: normal;white-space: pre;background: #fff0;line-height: 1.1;font-family: &quot;Courier New&quot;,Courier,monospace\">     ┌───┐┌─────────┐\n",
       "q_0: ┤ H ├┤0        ├\n",
       "     ├───┤│  oracle │\n",
       "q_1: ┤ H ├┤1        ├\n",
       "     └───┘└─────────┘\n",
       "c_0: ════════════════\n",
       "                     \n",
       "c_1: ════════════════\n",
       "                     </pre>"
      ],
      "text/plain": [
       "     ┌───┐┌─────────┐\n",
       "q_0: ┤ H ├┤0        ├\n",
       "     ├───┤│  oracle │\n",
       "q_1: ┤ H ├┤1        ├\n",
       "     └───┘└─────────┘\n",
       "c_0: ════════════════\n",
       "                     \n",
       "c_1: ════════════════\n",
       "                     "
      ]
     },
     "execution_count": 26,
     "metadata": {},
     "output_type": "execute_result"
    }
   ],
   "source": [
    "\n",
    "backend = Aer.get_backend('statevector_simulator')\n",
    "grover_circ = QuantumCircuit(2,2) #2 qbits, 2 classical registers\n",
    "grover_circ.h([0,1]) #perpare superpos state with hadamard gate\n",
    "grover_circ.append(oracle, [0,1])\n",
    "grover_circ.draw()\n"
   ]
  },
  {
   "cell_type": "code",
   "execution_count": 27,
   "metadata": {},
   "outputs": [
    {
     "data": {
      "text/plain": [
       "array([ 0.5+0.j,  0.5+0.j,  0.5+0.j, -0.5+0.j])"
      ]
     },
     "execution_count": 27,
     "metadata": {},
     "output_type": "execute_result"
    }
   ],
   "source": [
    "job = execute(grover_circ, backend) #simulate\n",
    "result = job.result()\n",
    "\n",
    "sv = result.get_statevector()\n",
    "np.around(sv,2)"
   ]
  },
  {
   "cell_type": "code",
   "execution_count": 28,
   "metadata": {},
   "outputs": [
    {
     "data": {
      "text/html": [
       "<pre style=\"word-wrap: normal;white-space: pre;background: #fff0;line-height: 1.1;font-family: &quot;Courier New&quot;,Courier,monospace\">     ┌───┐┌───┐   ┌───┐\n",
       "q_0: ┤ H ├┤ Z ├─■─┤ H ├\n",
       "     ├───┤├───┤ │ ├───┤\n",
       "q_1: ┤ H ├┤ Z ├─■─┤ H ├\n",
       "     └───┘└───┘   └───┘</pre>"
      ],
      "text/plain": [
       "     ┌───┐┌───┐   ┌───┐\n",
       "q_0: ┤ H ├┤ Z ├─■─┤ H ├\n",
       "     ├───┤├───┤ │ ├───┤\n",
       "q_1: ┤ H ├┤ Z ├─■─┤ H ├\n",
       "     └───┘└───┘   └───┘"
      ]
     },
     "execution_count": 28,
     "metadata": {},
     "output_type": "execute_result"
    }
   ],
   "source": [
    "reflection = QuantumCircuit(2, name = 'reflection')\n",
    "reflection.h([0,1])\n",
    "reflection.z([0,1])\n",
    "reflection.cz(0,1)\n",
    "reflection.h([0,1])\n",
    "reflection.to_gate()\n",
    "reflection.draw()"
   ]
  },
  {
   "cell_type": "code",
   "execution_count": 29,
   "metadata": {},
   "outputs": [
    {
     "data": {
      "text/html": [
       "<pre style=\"word-wrap: normal;white-space: pre;background: #fff0;line-height: 1.1;font-family: &quot;Courier New&quot;,Courier,monospace\">     ┌───┐┌─────────┐┌─────────────┐┌─┐   \n",
       "q_0: ┤ H ├┤0        ├┤0            ├┤M├───\n",
       "     ├───┤│  oracle ││  reflection │└╥┘┌─┐\n",
       "q_1: ┤ H ├┤1        ├┤1            ├─╫─┤M├\n",
       "     └───┘└─────────┘└─────────────┘ ║ └╥┘\n",
       "c_0: ════════════════════════════════╩══╬═\n",
       "                                        ║ \n",
       "c_1: ═══════════════════════════════════╩═\n",
       "                                          </pre>"
      ],
      "text/plain": [
       "     ┌───┐┌─────────┐┌─────────────┐┌─┐   \n",
       "q_0: ┤ H ├┤0        ├┤0            ├┤M├───\n",
       "     ├───┤│  oracle ││  reflection │└╥┘┌─┐\n",
       "q_1: ┤ H ├┤1        ├┤1            ├─╫─┤M├\n",
       "     └───┘└─────────┘└─────────────┘ ║ └╥┘\n",
       "c_0: ════════════════════════════════╩══╬═\n",
       "                                        ║ \n",
       "c_1: ═══════════════════════════════════╩═\n",
       "                                          "
      ]
     },
     "execution_count": 29,
     "metadata": {},
     "output_type": "execute_result"
    }
   ],
   "source": [
    "backend = Aer.get_backend('qasm_simulator')\n",
    "grover_circ = QuantumCircuit(2,2)\n",
    "grover_circ.h([0,1])\n",
    "grover_circ.append(oracle, [0,1])\n",
    "grover_circ.append(reflection, [0,1])\n",
    "grover_circ.measure([0,1],[0,1])\n",
    "\n",
    "grover_circ.draw()"
   ]
  },
  {
   "cell_type": "code",
   "execution_count": 30,
   "metadata": {},
   "outputs": [
    {
     "name": "stdout",
     "output_type": "stream",
     "text": [
      "Job Status: job has successfully run\n"
     ]
    },
    {
     "data": {
      "image/png": "[encoded data removed]",
      "text/plain": [
       "<Figure size 504x360 with 1 Axes>"
      ]
     },
     "execution_count": 30,
     "metadata": {},
     "output_type": "execute_result"
    }
   ],
   "source": [
    "transpiled_grover_circuit = transpile(grover_circ, backend, optimization_level=3)\n",
    "job = backend.run(transpiled_grover_circuit)\n",
    "job_monitor(job, interval=2)\n",
    "\n",
    "job = execute(grover_circ, backend, shots = 1)\n",
    "result = job.result()\n",
    "result.get_counts()\n",
    "\n",
    "results = job.result()\n",
    "answer = results.get_counts(grover_circ)\n",
    "plot_histogram(answer)\n"
   ]
  },
  {
   "cell_type": "code",
   "execution_count": 167,
   "metadata": {},
   "outputs": [
    {
     "name": "stdout",
     "output_type": "stream",
     "text": [
      "[0.+0.j 0.+0.j 0.+0.j 0.+0.j 0.+0.j 1.+0.j 1.+0.j 0.+0.j]\n"
     ]
    },
    {
     "data": {
      "image/png": "[encoded data removed]",
      "text/plain": [
       "<Figure size 667.914x204.68 with 1 Axes>"
      ]
     },
     "execution_count": 167,
     "metadata": {},
     "output_type": "execute_result"
    }
   ],
   "source": [
    "sample = '0110'\n",
    "\n",
    "good_state = ['110','101']\n",
    "oracle = Statevector([0,0,0,0,0,1,1,0])\n",
    "\n",
    "#oracle = Statevector.from_label(sample) #creates staevector from winner sample\n",
    "\n",
    "print(np.around(oracle,2))\n",
    "problem = AmplificationProblem(oracle, is_good_state=good_state) #\n",
    "\n",
    "grover_circuits = []\n",
    "for iteration in range(0,20): #experimental test for multiple layers\n",
    "    grover = Grover(iterations=iteration)\n",
    "    circuit = grover.construct_circuit(problem) #this constructs the grover circ from the amplification problem, given a sample\n",
    "    circuit.measure_all()\n",
    "    grover_circuits.append(circuit)\n",
    "\n",
    "grover_circuits[10].draw()\n",
    "problem.grover_operator.decompose().draw(output='mpl')"
   ]
  },
  {
   "cell_type": "code",
   "execution_count": 177,
   "metadata": {},
   "outputs": [
    {
     "data": {
      "image/png": "[encoded data removed]",
      "text/plain": [
       "<Figure size 504x360 with 1 Axes>"
      ]
     },
     "execution_count": 177,
     "metadata": {},
     "output_type": "execute_result"
    }
   ],
   "source": [
    "# Simulate and plot results\n",
    "aer_simulator = Aer.get_backend('aer_simulator')\n",
    "transpiled_qc = transpile(grover_circuits[1], aer_simulator)\n",
    "qobj = assemble(transpiled_qc)\n",
    "result = aer_simulator.run(qobj).result()\n",
    "plot_histogram(result.get_counts())"
   ]
  },
  {
   "cell_type": "code",
   "execution_count": 43,
   "metadata": {},
   "outputs": [
    {
     "name": "stdout",
     "output_type": "stream",
     "text": [
      "Job Status: job has successfully run\n",
      "[75, 483, 941, 989, 602, 116, 20, 373, 837, 1017, 698, 219, 2, 284, 804, 1024, 834, 288, 6, 180]\n"
     ]
    },
    {
     "data": {
      "text/plain": [
       "[<matplotlib.lines.Line2D at 0x143e2d1adc0>]"
      ]
     },
     "execution_count": 43,
     "metadata": {},
     "output_type": "execute_result"
    },
    {
     "data": {
      "image/png": "[encoded data removed]",
      "text/plain": [
       "<Figure size 432x288 with 1 Axes>"
      ]
     },
     "metadata": {
      "needs_background": "light"
     },
     "output_type": "display_data"
    }
   ],
   "source": [
    "#this job monitor is more tunable\n",
    "from qiskit.tools.monitor import job_monitor\n",
    "transpiled_grover_circuit = transpile(grover_circuits[1], backend, optimization_level=3)\n",
    "job = backend.run(transpiled_grover_circuit)\n",
    "job_monitor(job, interval=2)\n",
    "answers = []\n",
    "\n",
    "for i in range(0,20):\n",
    "    job = execute(grover_circuits[i], backend, shots = 1024)\n",
    "    result = job.result()\n",
    "    result.get_counts()\n",
    "    results = job.result()\n",
    "    answer = results.get_counts(grover_circuits[i])\n",
    "    answers.append(answer[sample])\n",
    "\n",
    "plot_histogram(answer)\n",
    "print(answers)\n",
    "iters = np.linspace(0,20,20)\n",
    "plt.plot(iters, answers)\n",
    "    "
   ]
  },
  {
   "cell_type": "markdown",
   "metadata": {},
   "source": [
    "Optima number of iterations. As expected, periodic, with a period of: "
   ]
  },
  {
   "cell_type": "code",
   "execution_count": null,
   "metadata": {},
   "outputs": [],
   "source": [
    "problem = AmplificationProblem(oracle, is_good_state=sample)\n",
    "grover = Grover(iterations=100, sample_from_iterations=True)"
   ]
  },
  {
   "cell_type": "code",
   "execution_count": null,
   "metadata": {},
   "outputs": [
    {
     "data": {
      "text/plain": [
       "3"
      ]
     },
     "execution_count": 160,
     "metadata": {},
     "output_type": "execute_result"
    }
   ],
   "source": [
    "iterations = Grover.optimal_num_iterations(num_solutions=1, num_qubits=4)\n",
    "iterations"
   ]
  },
  {
   "cell_type": "markdown",
   "metadata": {},
   "source": [
    "Grover with multiple good states"
   ]
  },
  {
   "cell_type": "code",
   "execution_count": null,
   "metadata": {},
   "outputs": [
    {
     "data": {
      "image/png": "[encoded data removed]",
      "text/plain": [
       "<Figure size 848.514x264.88 with 1 Axes>"
      ]
     },
     "execution_count": 115,
     "metadata": {},
     "output_type": "execute_result"
    }
   ],
   "source": [
    "grover_op = GroverOperator(oracle, insert_barriers=True)\n",
    "grover_op.decompose().draw(output='mpl')"
   ]
  },
  {
   "cell_type": "code",
   "execution_count": 146,
   "metadata": {},
   "outputs": [
    {
     "data": {
      "image/png": "[encoded data removed]",
      "text/plain": [
       "<Figure size 547.514x204.68 with 1 Axes>"
      ]
     },
     "execution_count": 146,
     "metadata": {},
     "output_type": "execute_result"
    }
   ],
   "source": [
    "\n",
    "oracle = QuantumCircuit(3)\n",
    "oracle.cz(0, 1)\n",
    "oracle.cz(1,2)\n",
    "good_state = '110'\n",
    "problem = AmplificationProblem(oracle, is_good_state=good_state)\n",
    "\n",
    "grover_circs = []\n",
    "for iteration in range(0,20): #experimental test for multiple iterations\n",
    "    grover = Grover(iterations=iteration)\n",
    "    circuit = grover.construct_circuit(problem) #this constructs the grover circ from the amplification problem, given a sample\n",
    "    circuit.measure_all()\n",
    "    grover_circs.append(circuit)\n",
    "\n",
    "grover_circs[1].draw()\n",
    "problem.grover_operator.decompose().draw(output='mpl')"
   ]
  },
  {
   "cell_type": "code",
   "execution_count": 147,
   "metadata": {},
   "outputs": [
    {
     "name": "stdout",
     "output_type": "stream",
     "text": [
      "Job Status: job has successfully run\n"
     ]
    }
   ],
   "source": [
    "from qiskit.tools.monitor import job_monitor\n",
    "transpiled_grover_circuit = transpile(grover_circs[1], backend, optimization_level=3)\n",
    "job = backend.run(transpiled_grover_circuit)\n",
    "job_monitor(job, interval=2)\n",
    "answers = []\n",
    "\n",
    "for i in range(0,20):\n",
    "    job = execute(grover_circs[i], backend, shots = 1024)\n",
    "    result = job.result()\n",
    "    result.get_counts()\n",
    "    results = job.result()\n",
    "    answer = results.get_counts(grover_circs[i])\n",
    "  \n",
    "\n",
    "\n"
   ]
  },
  {
   "cell_type": "code",
   "execution_count": 156,
   "metadata": {},
   "outputs": [
    {
     "data": {
      "image/png": "[encoded data removed]",
      "text/plain": [
       "<Figure size 504x360 with 1 Axes>"
      ]
     },
     "execution_count": 156,
     "metadata": {},
     "output_type": "execute_result"
    }
   ],
   "source": [
    "transpiled_qc = transpile(grover_circs[3], aer_simulator)\n",
    "qobj = assemble(transpiled_qc)\n",
    "result = aer_simulator.run(qobj).result()\n",
    "plot_histogram(result.get_counts())"
   ]
  },
  {
   "cell_type": "markdown",
   "metadata": {},
   "source": [
    "stackoverflow megoldás"
   ]
  },
  {
   "cell_type": "code",
   "execution_count": 111,
   "metadata": {},
   "outputs": [
    {
     "data": {
      "text/html": [
       "<pre style=\"word-wrap: normal;white-space: pre;background: #fff0;line-height: 1.1;font-family: &quot;Courier New&quot;,Courier,monospace\">               \n",
       "q_0: ───────■──\n",
       "            │  \n",
       "q_1: ──■────■──\n",
       "       │    │  \n",
       "q_2: ──o────┼──\n",
       "     ┌─┴─┐┌─┴─┐\n",
       "q_3: ┤ X ├┤ X ├\n",
       "     └───┘└───┘</pre>"
      ],
      "text/plain": [
       "               \n",
       "q_0: ───────■──\n",
       "            │  \n",
       "q_1: ──■────■──\n",
       "       │    │  \n",
       "q_2: ──o────┼──\n",
       "     ┌─┴─┐┌─┴─┐\n",
       "q_3: ┤ X ├┤ X ├\n",
       "     └───┘└───┘"
      ]
     },
     "execution_count": 111,
     "metadata": {},
     "output_type": "execute_result"
    }
   ],
   "source": [
    "from qiskit.circuit import QuantumCircuit\n",
    "from qiskit.circuit.classicalfunction import classical_function\n",
    "from qiskit.circuit.classicalfunction.types import Int1\n",
    "#from qiskit.circuit.classicalfunction import Int1\n",
    "\n",
    "# define a classical function that can be turned into a circuit\n",
    "@classical_function\n",
    "def oracle(x1: Int1, x2: Int1, x3: Int1) -> Int1:\n",
    "    return (x1 and x2 and x3) or (not x1 and x2 and not x3)\n",
    "\n",
    "bitcircuit = oracle.synth()  # turn it into a circuit\n",
    "bitcircuit.draw()\n"
   ]
  },
  {
   "cell_type": "code",
   "execution_count": 114,
   "metadata": {},
   "outputs": [
    {
     "data": {
      "text/html": [
       "<pre style=\"word-wrap: normal;white-space: pre;background: #fff0;line-height: 1.1;font-family: &quot;Courier New&quot;,Courier,monospace\">     ┌───┐┌─────────┐\n",
       "q_0: ┤ H ├┤0        ├\n",
       "     ├───┤│         │\n",
       "q_1: ┤ H ├┤1        ├\n",
       "     ├───┤│  Oracle │\n",
       "q_2: ┤ H ├┤2        ├\n",
       "     ├───┤│         │\n",
       "q_3: ┤ H ├┤3        ├\n",
       "     └───┘└─────────┘\n",
       "c_0: ════════════════\n",
       "                     \n",
       "c_1: ════════════════\n",
       "                     \n",
       "c_2: ════════════════\n",
       "                     \n",
       "c_3: ════════════════\n",
       "                     </pre>"
      ],
      "text/plain": [
       "     ┌───┐┌─────────┐\n",
       "q_0: ┤ H ├┤0        ├\n",
       "     ├───┤│         │\n",
       "q_1: ┤ H ├┤1        ├\n",
       "     ├───┤│  Oracle │\n",
       "q_2: ┤ H ├┤2        ├\n",
       "     ├───┤│         │\n",
       "q_3: ┤ H ├┤3        ├\n",
       "     └───┘└─────────┘\n",
       "c_0: ════════════════\n",
       "                     \n",
       "c_1: ════════════════\n",
       "                     \n",
       "c_2: ════════════════\n",
       "                     \n",
       "c_3: ════════════════\n",
       "                     "
      ]
     },
     "execution_count": 114,
     "metadata": {},
     "output_type": "execute_result"
    }
   ],
   "source": [
    "\n",
    "phaseoracle = QuantumCircuit(4)\n",
    "phaseoracle.x(3)\n",
    "phaseoracle.h(3)\n",
    "phaseoracle.compose(bitcircuit, inplace=True)\n",
    "phaseoracle.h(3)\n",
    "phaseoracle.x(3)\n",
    "\n",
    "backend = Aer.get_backend('statevector_simulator')\n",
    "grover_circ = QuantumCircuit(4,4) #4 qbits, 4 classical registers\n",
    "grover_circ.h([0,1,2,3]) #perpare superpos state with hadamard gate\n",
    "grover_circ.append(oracle, [0,1,2,3])\n",
    "grover_circ.draw()"
   ]
  },
  {
   "cell_type": "code",
   "execution_count": 78,
   "metadata": {},
   "outputs": [],
   "source": [
    "def diffuser(nqubits):\n",
    "    qc = QuantumCircuit(nqubits)\n",
    "    # Apply transformation |s> -> |00..0> (H-gates)\n",
    "    for qubit in range(nqubits):\n",
    "        qc.h(qubit)\n",
    "    # Apply transformation |00..0> -> |11..1> (X-gates)\n",
    "    for qubit in range(nqubits):\n",
    "        qc.x(qubit)\n",
    "    # Do multi-controlled-Z gate\n",
    "    qc.h(nqubits-1)\n",
    "    qc.mct(list(range(nqubits-1)), nqubits-1)  # multi-controlled-toffoli\n",
    "    qc.h(nqubits-1)\n",
    "    # Apply transformation |11..1> -> |00..0>\n",
    "    for qubit in range(nqubits):\n",
    "        qc.x(qubit)\n",
    "    # Apply transformation |00..0> -> |s>\n",
    "    for qubit in range(nqubits):\n",
    "        qc.h(qubit)\n",
    "    # We will return the diffuser as a gate\n",
    "    U_s = qc.to_gate()\n",
    "    U_s.name = \"U_s\"\n",
    "    return U_s"
   ]
  },
  {
   "cell_type": "code",
   "execution_count": 133,
   "metadata": {},
   "outputs": [
    {
     "ename": "CircuitError",
     "evalue": "'The amount of qubit(3)/clbit(0) arguments does not match the gate expectation (4).'",
     "output_type": "error",
     "traceback": [
      "\u001b[1;31m---------------------------------------------------------------------------\u001b[0m",
      "\u001b[1;31mCircuitError\u001b[0m                              Traceback (most recent call last)",
      "\u001b[1;32m~\\AppData\\Local\\Temp/ipykernel_14200/1646256908.py\u001b[0m in \u001b[0;36m<module>\u001b[1;34m\u001b[0m\n\u001b[0;32m      9\u001b[0m \u001b[0mquantcirc\u001b[0m\u001b[1;33m.\u001b[0m\u001b[0mh\u001b[0m\u001b[1;33m(\u001b[0m\u001b[0mqr\u001b[0m\u001b[1;33m[\u001b[0m\u001b[1;36m0\u001b[0m\u001b[1;33m:\u001b[0m\u001b[0mn\u001b[0m\u001b[1;33m]\u001b[0m\u001b[1;33m)\u001b[0m\u001b[1;33m\u001b[0m\u001b[1;33m\u001b[0m\u001b[0m\n\u001b[0;32m     10\u001b[0m \u001b[1;33m\u001b[0m\u001b[0m\n\u001b[1;32m---> 11\u001b[1;33m \u001b[0mquantcirc\u001b[0m\u001b[1;33m.\u001b[0m\u001b[0mappend\u001b[0m\u001b[1;33m(\u001b[0m\u001b[0moracle\u001b[0m\u001b[1;33m,\u001b[0m \u001b[1;33m[\u001b[0m\u001b[1;36m0\u001b[0m\u001b[1;33m,\u001b[0m\u001b[1;36m1\u001b[0m\u001b[1;33m,\u001b[0m\u001b[1;36m2\u001b[0m\u001b[1;33m]\u001b[0m\u001b[1;33m)\u001b[0m\u001b[1;33m\u001b[0m\u001b[1;33m\u001b[0m\u001b[0m\n\u001b[0m\u001b[0;32m     12\u001b[0m \u001b[0mquantcirc\u001b[0m\u001b[1;33m.\u001b[0m\u001b[0mappend\u001b[0m\u001b[1;33m(\u001b[0m\u001b[0mdiffuser\u001b[0m\u001b[1;33m(\u001b[0m\u001b[0mn\u001b[0m\u001b[1;33m)\u001b[0m\u001b[1;33m,\u001b[0m \u001b[1;33m[\u001b[0m\u001b[1;36m0\u001b[0m\u001b[1;33m,\u001b[0m\u001b[1;36m1\u001b[0m\u001b[1;33m,\u001b[0m\u001b[1;36m2\u001b[0m\u001b[1;33m]\u001b[0m\u001b[1;33m)\u001b[0m\u001b[1;33m\u001b[0m\u001b[1;33m\u001b[0m\u001b[0m\n\u001b[0;32m     13\u001b[0m \u001b[1;33m\u001b[0m\u001b[0m\n",
      "\u001b[1;32mc:\\Users\\kovec\\miniconda3\\lib\\site-packages\\qiskit\\circuit\\quantumcircuit.py\u001b[0m in \u001b[0;36mappend\u001b[1;34m(self, instruction, qargs, cargs)\u001b[0m\n\u001b[0;32m   1307\u001b[0m         \u001b[0minstructions\u001b[0m \u001b[1;33m=\u001b[0m \u001b[0mInstructionSet\u001b[0m\u001b[1;33m(\u001b[0m\u001b[0mresource_requester\u001b[0m\u001b[1;33m=\u001b[0m\u001b[0mrequester\u001b[0m\u001b[1;33m)\u001b[0m\u001b[1;33m\u001b[0m\u001b[1;33m\u001b[0m\u001b[0m\n\u001b[0;32m   1308\u001b[0m         \u001b[1;32mif\u001b[0m \u001b[0misinstance\u001b[0m\u001b[1;33m(\u001b[0m\u001b[0moperation\u001b[0m\u001b[1;33m,\u001b[0m \u001b[0mInstruction\u001b[0m\u001b[1;33m)\u001b[0m\u001b[1;33m:\u001b[0m\u001b[1;33m\u001b[0m\u001b[1;33m\u001b[0m\u001b[0m\n\u001b[1;32m-> 1309\u001b[1;33m             \u001b[1;32mfor\u001b[0m \u001b[0mqarg\u001b[0m\u001b[1;33m,\u001b[0m \u001b[0mcarg\u001b[0m \u001b[1;32min\u001b[0m \u001b[0moperation\u001b[0m\u001b[1;33m.\u001b[0m\u001b[0mbroadcast_arguments\u001b[0m\u001b[1;33m(\u001b[0m\u001b[0mexpanded_qargs\u001b[0m\u001b[1;33m,\u001b[0m \u001b[0mexpanded_cargs\u001b[0m\u001b[1;33m)\u001b[0m\u001b[1;33m:\u001b[0m\u001b[1;33m\u001b[0m\u001b[1;33m\u001b[0m\u001b[0m\n\u001b[0m\u001b[0;32m   1310\u001b[0m                 \u001b[0mself\u001b[0m\u001b[1;33m.\u001b[0m\u001b[0m_check_dups\u001b[0m\u001b[1;33m(\u001b[0m\u001b[0mqarg\u001b[0m\u001b[1;33m)\u001b[0m\u001b[1;33m\u001b[0m\u001b[1;33m\u001b[0m\u001b[0m\n\u001b[0;32m   1311\u001b[0m                 \u001b[0minstruction\u001b[0m \u001b[1;33m=\u001b[0m \u001b[0mCircuitInstruction\u001b[0m\u001b[1;33m(\u001b[0m\u001b[0moperation\u001b[0m\u001b[1;33m,\u001b[0m \u001b[0mqarg\u001b[0m\u001b[1;33m,\u001b[0m \u001b[0mcarg\u001b[0m\u001b[1;33m)\u001b[0m\u001b[1;33m\u001b[0m\u001b[1;33m\u001b[0m\u001b[0m\n",
      "\u001b[1;32mc:\\Users\\kovec\\miniconda3\\lib\\site-packages\\qiskit\\circuit\\gate.py\u001b[0m in \u001b[0;36mbroadcast_arguments\u001b[1;34m(self, qargs, cargs)\u001b[0m\n\u001b[0;32m    197\u001b[0m         \"\"\"\n\u001b[0;32m    198\u001b[0m         \u001b[1;32mif\u001b[0m \u001b[0mlen\u001b[0m\u001b[1;33m(\u001b[0m\u001b[0mqargs\u001b[0m\u001b[1;33m)\u001b[0m \u001b[1;33m!=\u001b[0m \u001b[0mself\u001b[0m\u001b[1;33m.\u001b[0m\u001b[0mnum_qubits\u001b[0m \u001b[1;32mor\u001b[0m \u001b[0mcargs\u001b[0m\u001b[1;33m:\u001b[0m\u001b[1;33m\u001b[0m\u001b[1;33m\u001b[0m\u001b[0m\n\u001b[1;32m--> 199\u001b[1;33m             raise CircuitError(\n\u001b[0m\u001b[0;32m    200\u001b[0m                 \u001b[1;34mf\"The amount of qubit({len(qargs)})/clbit({len(cargs)}) arguments does\"\u001b[0m\u001b[1;33m\u001b[0m\u001b[1;33m\u001b[0m\u001b[0m\n\u001b[0;32m    201\u001b[0m                 \u001b[1;34mf\" not match the gate expectation ({self.num_qubits}).\"\u001b[0m\u001b[1;33m\u001b[0m\u001b[1;33m\u001b[0m\u001b[0m\n",
      "\u001b[1;31mCircuitError\u001b[0m: 'The amount of qubit(3)/clbit(0) arguments does not match the gate expectation (4).'"
     ]
    }
   ],
   "source": [
    "backend = Aer.get_backend('qasm_simulator')\n",
    "\n",
    "n = 3\n",
    "qr = QuantumRegister(n, 'q')\n",
    "cr = ClassicalRegister(n, 'c')\n",
    "\n",
    "quantcirc = QuantumCircuit(qr,cr)\n",
    "\n",
    "quantcirc.h(qr[0:n])\n",
    "\n",
    "quantcirc.append(oracle, [0,1,2])\n",
    "quantcirc.append(diffuser(n), [0,1,2])\n",
    "\n",
    "\n",
    "quantcirc.measure(qr,cr)\n",
    "\n",
    "quantcirc.draw()"
   ]
  },
  {
   "cell_type": "code",
   "execution_count": 132,
   "metadata": {},
   "outputs": [
    {
     "data": {
      "image/png": "[encoded data removed]",
      "text/plain": [
       "<Figure size 504x360 with 1 Axes>"
      ]
     },
     "execution_count": 132,
     "metadata": {},
     "output_type": "execute_result"
    }
   ],
   "source": [
    "transpiled_qc = transpile(quantcirc, aer_simulator)\n",
    "qobj = assemble(transpiled_qc)\n",
    "result = aer_simulator.run(qobj).result()\n",
    "plot_histogram(result.get_counts())"
   ]
  }
 ],
 "metadata": {
  "kernelspec": {
   "display_name": "Python 3.9.6 ('base')",
   "language": "python",
   "name": "python3"
  },
  "language_info": {
   "codemirror_mode": {
    "name": "ipython",
    "version": 3
   },
   "file_extension": ".py",
   "mimetype": "text/x-python",
   "name": "python",
   "nbconvert_exporter": "python",
   "pygments_lexer": "ipython3",
   "version": "3.9.6"
  },
  "orig_nbformat": 4,
  "vscode": {
   "interpreter": {
    "hash": "febffbf1abe600e9ff9516a81f31ebff4580950e9863d966149071f0505ac46d"
   }
  }
 },
 "nbformat": 4,
 "nbformat_minor": 2
}
