{
 "cells": [
  {
   "cell_type": "code",
   "execution_count": 2,
   "metadata": {},
   "outputs": [],
   "source": [
    "import numpy as np\n",
    "import random\n",
    "import matplotlib.pyplot as plt\n",
    "\n",
    "# importing Qiskit\n",
    "from qiskit import *\n",
    "#from qiskit.aqua.algorithms import Grover\n",
    "#from qiskit.aqua.components.oracles import TruthTableOracle\n",
    "from qiskit import QuantumCircuit\n",
    "from qiskit.algorithms import AmplificationProblem\n",
    "from qiskit.quantum_info import Statevector\n",
    "from qiskit.algorithms import Grover\n",
    "from qiskit.visualization import plot_histogram\n",
    "from qiskit.tools.monitor import job_monitor"
   ]
  },
  {
   "cell_type": "markdown",
   "metadata": {},
   "source": [
    "### Keresés random adatbázisban klasszikusan"
   ]
  },
  {
   "cell_type": "code",
   "execution_count": 3,
   "metadata": {},
   "outputs": [
    {
     "name": "stdout",
     "output_type": "stream",
     "text": [
      "Átlagos futási szám: 5.641\n"
     ]
    }
   ],
   "source": [
    "\n",
    "def oracle1(input):\n",
    "    value = 6\n",
    "    if input == value:\n",
    "        return True\n",
    "    else: return False\n",
    "\n",
    "l = []\n",
    "for i in range(1000):    \n",
    "\n",
    "    randlist = random.sample(range(0,10), 10)\n",
    "\n",
    "    #print(randlist)\n",
    "\n",
    "    for index, value in enumerate(randlist):\n",
    "        if oracle1(value) == True:\n",
    "            #print(\"pozíció: \", index)\n",
    "            #print(\"futtatások száma:\", index+1)\n",
    "            l.append(index+1)\n",
    "            break\n",
    "print(\"Átlagos futási szám:\", np.mean(l))\n",
    "\n",
    "    "
   ]
  },
  {
   "cell_type": "markdown",
   "metadata": {},
   "source": [
    "### Kvantumosan, Grover algoritmussal"
   ]
  },
  {
   "cell_type": "code",
   "execution_count": 58,
   "metadata": {},
   "outputs": [
    {
     "data": {
      "text/html": [
       "<pre style=\"word-wrap: normal;white-space: pre;background: #fff0;line-height: 1.1;font-family: &quot;Courier New&quot;,Courier,monospace\">        \n",
       "q_0: ─■─\n",
       "      │ \n",
       "q_1: ─■─\n",
       "        </pre>"
      ],
      "text/plain": [
       "        \n",
       "q_0: ─■─\n",
       "      │ \n",
       "q_1: ─■─\n",
       "        "
      ]
     },
     "execution_count": 58,
     "metadata": {},
     "output_type": "execute_result"
    }
   ],
   "source": [
    "#prepare the oracle as a controlled z gate\n",
    "oracle = QuantumCircuit(2, name = 'oracle')\n",
    "oracle.cz(0,1)\n",
    "oracle.to_gate()\n",
    "oracle.draw()\n",
    "\n"
   ]
  },
  {
   "cell_type": "code",
   "execution_count": 59,
   "metadata": {},
   "outputs": [
    {
     "data": {
      "text/html": [
       "<pre style=\"word-wrap: normal;white-space: pre;background: #fff0;line-height: 1.1;font-family: &quot;Courier New&quot;,Courier,monospace\">     ┌───┐┌─────────┐\n",
       "q_0: ┤ H ├┤0        ├\n",
       "     ├───┤│  oracle │\n",
       "q_1: ┤ H ├┤1        ├\n",
       "     └───┘└─────────┘\n",
       "c_0: ════════════════\n",
       "                     \n",
       "c_1: ════════════════\n",
       "                     </pre>"
      ],
      "text/plain": [
       "     ┌───┐┌─────────┐\n",
       "q_0: ┤ H ├┤0        ├\n",
       "     ├───┤│  oracle │\n",
       "q_1: ┤ H ├┤1        ├\n",
       "     └───┘└─────────┘\n",
       "c_0: ════════════════\n",
       "                     \n",
       "c_1: ════════════════\n",
       "                     "
      ]
     },
     "execution_count": 59,
     "metadata": {},
     "output_type": "execute_result"
    }
   ],
   "source": [
    "\n",
    "backend = Aer.get_backend('statevector_simulator')\n",
    "grover_circ = QuantumCircuit(2,2) #2 qbits, 2 classical registers\n",
    "grover_circ.h([0,1]) #perpare superpos state with hadamard gate\n",
    "grover_circ.append(oracle, [0,1])\n",
    "grover_circ.draw()\n"
   ]
  },
  {
   "cell_type": "code",
   "execution_count": 60,
   "metadata": {},
   "outputs": [
    {
     "data": {
      "text/plain": [
       "array([ 0.5+0.j,  0.5+0.j,  0.5+0.j, -0.5+0.j])"
      ]
     },
     "execution_count": 60,
     "metadata": {},
     "output_type": "execute_result"
    }
   ],
   "source": [
    "job = execute(grover_circ, backend) #simulate\n",
    "result = job.result()\n",
    "\n",
    "sv = result.get_statevector()\n",
    "np.around(sv,2)"
   ]
  },
  {
   "cell_type": "code",
   "execution_count": 61,
   "metadata": {},
   "outputs": [
    {
     "data": {
      "text/html": [
       "<pre style=\"word-wrap: normal;white-space: pre;background: #fff0;line-height: 1.1;font-family: &quot;Courier New&quot;,Courier,monospace\">     ┌───┐┌───┐   ┌───┐\n",
       "q_0: ┤ H ├┤ Z ├─■─┤ H ├\n",
       "     ├───┤├───┤ │ ├───┤\n",
       "q_1: ┤ H ├┤ Z ├─■─┤ H ├\n",
       "     └───┘└───┘   └───┘</pre>"
      ],
      "text/plain": [
       "     ┌───┐┌───┐   ┌───┐\n",
       "q_0: ┤ H ├┤ Z ├─■─┤ H ├\n",
       "     ├───┤├───┤ │ ├───┤\n",
       "q_1: ┤ H ├┤ Z ├─■─┤ H ├\n",
       "     └───┘└───┘   └───┘"
      ]
     },
     "execution_count": 61,
     "metadata": {},
     "output_type": "execute_result"
    }
   ],
   "source": [
    "reflection = QuantumCircuit(2, name = 'reflection')\n",
    "reflection.h([0,1])\n",
    "reflection.z([0,1])\n",
    "reflection.cz(0,1)\n",
    "reflection.h([0,1])\n",
    "reflection.to_gate()\n",
    "reflection.draw()"
   ]
  },
  {
   "cell_type": "code",
   "execution_count": 62,
   "metadata": {},
   "outputs": [
    {
     "data": {
      "image/png": "[encoded data removed]",
      "text/plain": [
       "<Figure size 507.852x204.68 with 1 Axes>"
      ]
     },
     "execution_count": 62,
     "metadata": {},
     "output_type": "execute_result"
    }
   ],
   "source": [
    "backend = Aer.get_backend('qasm_simulator')\n",
    "grover_circ = QuantumCircuit(2,2)\n",
    "grover_circ.h([0,1])\n",
    "grover_circ.append(oracle, [0,1])\n",
    "grover_circ.append(reflection, [0,1])\n",
    "grover_circ.measure([0,1],[0,1])\n",
    "\n",
    "grover_circ.draw(output='mpl')"
   ]
  },
  {
   "cell_type": "code",
   "execution_count": 9,
   "metadata": {},
   "outputs": [
    {
     "name": "stdout",
     "output_type": "stream",
     "text": [
      "Job Status: job has successfully run\n"
     ]
    },
    {
     "data": {
      "image/png": "[encoded data removed]",
      "text/plain": [
       "<Figure size 504x360 with 1 Axes>"
      ]
     },
     "execution_count": 9,
     "metadata": {},
     "output_type": "execute_result"
    }
   ],
   "source": [
    "transpiled_grover_circuit = transpile(grover_circ, backend, optimization_level=3)\n",
    "job = backend.run(transpiled_grover_circuit)\n",
    "job_monitor(job, interval=2)\n",
    "\n",
    "job = execute(grover_circ, backend, shots = 1)\n",
    "result = job.result()\n",
    "result.get_counts()\n",
    "\n",
    "results = job.result()\n",
    "answer = results.get_counts(grover_circ)\n",
    "plot_histogram(answer)\n"
   ]
  },
  {
   "cell_type": "markdown",
   "metadata": {},
   "source": [
    "Grover search with multiple inputs"
   ]
  },
  {
   "cell_type": "code",
   "execution_count": 69,
   "metadata": {},
   "outputs": [
    {
     "name": "stdout",
     "output_type": "stream",
     "text": [
      "[0.+0.j 0.+0.j 0.+0.j 0.+0.j 0.+0.j 0.+0.j 0.+0.j 0.+0.j 0.+0.j 0.+0.j\n",
      " 0.+0.j 0.+0.j 0.+0.j 0.+0.j 0.+0.j 1.+0.j]\n"
     ]
    },
    {
     "data": {
      "image/png": "[encoded data removed]",
      "text/plain": [
       "<Figure size 667.914x264.88 with 1 Axes>"
      ]
     },
     "execution_count": 69,
     "metadata": {},
     "output_type": "execute_result"
    }
   ],
   "source": [
    "good_state = ['0001', '1111', '1110', '0000'] #these are numbers in binary form\n",
    "#oracle = Statevector([1,1,0,0,0,0,0,0,0,0,0,0,0,0,1,1]) \n",
    "#Consider all the numbers that can be represented by 4 bits, order them, \n",
    "# the good_states's index will be 1 \n",
    "\n",
    "sample = '1111'\n",
    "oracle = Statevector.from_label(sample) #creates staevector from winner sample\n",
    "\n",
    "print(np.around(oracle,2))\n",
    "problem = AmplificationProblem(oracle, is_good_state=sample)\n",
    "\n",
    "grover_circuits = []\n",
    "for iteration in range(0,20): #experimental test for multiple layers\n",
    "    grover = Grover(iterations=iteration)\n",
    "    circuit = grover.construct_circuit(problem) #this constructs the grover circ from the amplification problem, given a sample\n",
    "    circuit.measure_all()\n",
    "    grover_circuits.append(circuit)\n",
    "\n",
    "#grover_circuits[1].draw(output='mpl')\n",
    "problem.grover_operator.decompose().draw(output='mpl')"
   ]
  },
  {
   "cell_type": "code",
   "execution_count": 77,
   "metadata": {},
   "outputs": [
    {
     "data": {
      "image/png": "[encoded data removed]",
      "text/plain": [
       "<Figure size 504x360 with 1 Axes>"
      ]
     },
     "execution_count": 77,
     "metadata": {},
     "output_type": "execute_result"
    }
   ],
   "source": [
    "# Simulate and plot results\n",
    "aer_simulator = Aer.get_backend('aer_simulator')\n",
    "transpiled_qc = transpile(grover_circuits[9], aer_simulator)\n",
    "qobj = assemble(transpiled_qc)\n",
    "result = aer_simulator.run(qobj).result()\n",
    "plot_histogram(result.get_counts())\n",
    "#plt.savefig('1winner_histo.jpg', bbox_inches='tight', dpi=150)"
   ]
  },
  {
   "cell_type": "code",
   "execution_count": 78,
   "metadata": {},
   "outputs": [
    {
     "name": "stdout",
     "output_type": "stream",
     "text": [
      "Job Status: job has successfully run\n"
     ]
    },
    {
     "data": {
      "text/plain": [
       "Text(0.5, 0, 'Iterations')"
      ]
     },
     "execution_count": 78,
     "metadata": {},
     "output_type": "execute_result"
    },
    {
     "data": {
      "image/png": "[encoded data removed]",
      "text/plain": [
       "<Figure size 432x288 with 1 Axes>"
      ]
     },
     "metadata": {
      "needs_background": "light"
     },
     "output_type": "display_data"
    }
   ],
   "source": [
    "#this job monitor is more tunable\n",
    "from qiskit.tools.monitor import job_monitor\n",
    "transpiled_grover_circuit = transpile(grover_circuits[1], backend, optimization_level=3)\n",
    "job = backend.run(transpiled_grover_circuit)\n",
    "job_monitor(job, interval=2)\n",
    "\n",
    "answers = [] #ppick one of the winning states, and check Grover's succesful findings\n",
    "sample_count = 0\n",
    "\n",
    "for i in range(0,20):\n",
    "    job = execute(grover_circuits[i], backend, shots = 1024)\n",
    "    result = job.result()\n",
    "    result.get_counts()\n",
    "    results = job.result()\n",
    "    answer = results.get_counts(grover_circuits[i])\n",
    "    if sample in answer.keys(): #sometimes, it doesn't find it at all\n",
    "       answers.append(answer[sample]/1024)\n",
    "       sample_count +=1\n",
    "\n",
    "plot_histogram(answer)\n",
    "\n",
    "iters = np.linspace(0,sample_count,sample_count)\n",
    "plt.plot(iters, answers)\n",
    "plt.xlabel(\"Iterations\")\n",
    "\n",
    "\n",
    "#plt.savefig('1winner_iters.jpg', bbox_inches='tight', dpi=150)"
   ]
  },
  {
   "cell_type": "code",
   "execution_count": 79,
   "metadata": {},
   "outputs": [
    {
     "name": "stdout",
     "output_type": "stream",
     "text": [
      "[0.064453125, 0.470703125, 0.923828125, 0.96875, 0.5810546875, 0.1494140625, 0.0283203125, 0.3759765625, 0.837890625, 0.9892578125, 0.697265625, 0.1904296875, 0.001953125, 0.259765625, 0.7421875, 1.0, 0.783203125, 0.294921875, 0.00390625, 0.1787109375]\n"
     ]
    }
   ],
   "source": [
    "print(answers)"
   ]
  },
  {
   "cell_type": "code",
   "execution_count": 13,
   "metadata": {},
   "outputs": [
    {
     "data": {
      "text/plain": [
       "[<matplotlib.lines.Line2D at 0x2493e9d6a90>]"
      ]
     },
     "execution_count": 13,
     "metadata": {},
     "output_type": "execute_result"
    },
    {
     "data": {
      "image/png": "[encoded data removed]",
      "text/plain": [
       "<Figure size 432x288 with 1 Axes>"
      ]
     },
     "metadata": {
      "needs_background": "light"
     },
     "output_type": "display_data"
    }
   ],
   "source": [
    "\n",
    "answers = [] #ppick one of the winning states, and check Grover's succesful findings\n",
    "sample_count = 0\n",
    "\n",
    "for i in range(0,20):\n",
    "    job = execute(grover_circuits[i], backend, shots = 1024)\n",
    "    result = job.result()\n",
    "    result.get_counts()\n",
    "    results = job.result()\n",
    "    answer = results.get_counts(grover_circuits[i])\n",
    "    if sample in answer.keys(): #sometimes, it doesn't find it at all\n",
    "       answers.append(answer[sample])\n",
    "       sample_count +=1\n",
    "\n",
    "plot_histogram(answer)\n",
    "\n",
    "iters = np.linspace(0,sample_count,sample_count)\n",
    "plt.plot(iters, answers)    "
   ]
  },
  {
   "cell_type": "markdown",
   "metadata": {},
   "source": [
    "Check error for different N/M"
   ]
  },
  {
   "cell_type": "code",
   "execution_count": 100,
   "metadata": {},
   "outputs": [
    {
     "name": "stdout",
     "output_type": "stream",
     "text": [
      "[1, 1, 1, 1, 1, 1, 1, 1, 1, 1, 1, 1, 1, 1, 1, 1]\n",
      "[4, 471, 307, 265, 193, 148, 104, 73, 52, 67, 68, 63, 66, 76, 65, 72]\n"
     ]
    }
   ],
   "source": [
    "nums = [] #numbers to find, winning states\n",
    "states = [0 for i in range(16) ] #statevector of winning states\n",
    "findings = [] # save a chosen sample's num of succesful findings\n",
    "answers = [] # save ansers here\n",
    "\n",
    "for i in range(0,16):\n",
    "    strbin = str(bin(i))[2:]\n",
    "    if len(strbin)<4:\n",
    "        for j in range(4-len(strbin)):\n",
    "            strbin = '0'+strbin\n",
    "    nums.append(strbin)\n",
    "    states[i]=1\n",
    "\n",
    "    good_state = nums  #numbers to find, winning states\n",
    "    oracle = Statevector(states) #statevector of winning states\n",
    "\n",
    "    problem = AmplificationProblem(oracle, is_good_state=good_state)\n",
    "\n",
    "    iteration = Grover.optimal_num_iterations(num_solutions=i+1, num_qubits=4)\n",
    "    grover = Grover(iterations=iteration)\n",
    "    circuit = grover.construct_circuit(problem) #this constructs the grover circ from the amplification problem, given a sample\n",
    "    circuit.measure_all()\n",
    "\n",
    "    sample_count = 0\n",
    "    sample = '0001'\n",
    "\n",
    "    job = execute(circuit, backend, shots = 1024)\n",
    "    result = job.result()\n",
    "    result.get_counts()\n",
    "    results = job.result()\n",
    "    answer = results.get_counts(circuit)\n",
    "    answers.append(answer)\n",
    "    if sample in answer.keys(): #sometimes, it doesn't find it at all\n",
    "       findings.append(answer[sample])\n",
    "\n",
    "    \n",
    "\n",
    "print(states)\n",
    "print(findings)"
   ]
  },
  {
   "cell_type": "code",
   "execution_count": 82,
   "metadata": {},
   "outputs": [
    {
     "name": "stdout",
     "output_type": "stream",
     "text": [
      "978\n",
      "---\n",
      "479\n",
      "487\n",
      "---\n",
      "328\n",
      "336\n",
      "319\n",
      "---\n",
      "247\n",
      "257\n",
      "271\n",
      "249\n",
      "---\n",
      "199\n",
      "197\n",
      "191\n",
      "198\n",
      "189\n",
      "---\n",
      "149\n",
      "143\n",
      "150\n",
      "155\n",
      "125\n",
      "154\n",
      "---\n",
      "97\n",
      "91\n",
      "107\n",
      "108\n",
      "80\n",
      "98\n",
      "119\n",
      "---\n",
      "75\n",
      "69\n",
      "51\n",
      "68\n",
      "82\n",
      "51\n",
      "60\n",
      "68\n",
      "---\n",
      "73\n",
      "73\n",
      "68\n",
      "56\n",
      "67\n",
      "70\n",
      "65\n",
      "70\n",
      "66\n",
      "---\n",
      "55\n",
      "61\n",
      "61\n",
      "63\n",
      "76\n",
      "71\n",
      "65\n",
      "63\n",
      "62\n",
      "75\n",
      "---\n",
      "69\n",
      "62\n",
      "61\n",
      "80\n",
      "56\n",
      "75\n",
      "72\n",
      "51\n",
      "60\n",
      "60\n",
      "69\n",
      "---\n",
      "60\n",
      "60\n",
      "65\n",
      "60\n",
      "57\n",
      "62\n",
      "54\n",
      "66\n",
      "64\n",
      "61\n",
      "56\n",
      "68\n",
      "---\n",
      "76\n",
      "65\n",
      "83\n",
      "71\n",
      "58\n",
      "72\n",
      "52\n",
      "57\n",
      "52\n",
      "57\n",
      "47\n",
      "61\n",
      "73\n",
      "---\n",
      "64\n",
      "64\n",
      "66\n",
      "57\n",
      "65\n",
      "67\n",
      "60\n",
      "58\n",
      "60\n",
      "68\n",
      "72\n",
      "61\n",
      "63\n",
      "58\n",
      "---\n",
      "71\n",
      "67\n",
      "52\n",
      "75\n",
      "65\n",
      "59\n",
      "68\n",
      "48\n",
      "64\n",
      "67\n",
      "61\n",
      "57\n",
      "58\n",
      "65\n",
      "75\n",
      "---\n"
     ]
    }
   ],
   "source": [
    "plot_histogram(answers[1])\n",
    "\n",
    "for i in range(len(answers)):\n",
    "    for j in range(i+1):\n",
    "        if nums[j] in answers[i]:\n",
    "            print(answers[i][nums[j]])\n",
    "    print('---')\n",
    "            "
   ]
  },
  {
   "cell_type": "code",
   "execution_count": 105,
   "metadata": {},
   "outputs": [
    {
     "name": "stdout",
     "output_type": "stream",
     "text": [
      "[0.0341796875, 0.064453125, 0.05078125, 0.0, 0.044921875, 0.1669921875, 0.33203125, 0.525390625, 0.4462890625, 0.37109375, 0.29296875, 0.255859375, 0.1796875, 0.123046875, 0.060546875, 0.0] [0.9658203125, 0.935546875, 0.94921875, 1.0, 0.955078125, 0.8330078125, 0.66796875, 0.474609375, 0.5537109375, 0.62890625, 0.70703125, 0.744140625, 0.8203125, 0.876953125, 0.939453125, 1.0]\n"
     ]
    },
    {
     "data": {
      "image/png": "[encoded data removed]",
      "text/plain": [
       "<Figure size 432x288 with 1 Axes>"
      ]
     },
     "metadata": {
      "needs_background": "light"
     },
     "output_type": "display_data"
    }
   ],
   "source": [
    "fail = [] #sum of found winners\n",
    "winner = []\n",
    "\n",
    "for i in range(len(answers)):\n",
    "    winnernum = 0\n",
    "    for j in range(i+1):\n",
    "        if nums[j] in answers[i]:\n",
    "            winnernum+=answers[i][nums[j]]\n",
    "    fail.append((1024-winnernum)/1024)\n",
    "    winner.append(winnernum/1024)\n",
    "\n",
    "print(fail, winner)\n",
    "\n",
    "ratio = []\n",
    "for k in range(1,17):\n",
    "    ratio.append(k/16)\n",
    "\n",
    "plt.plot(ratio, winner[0:16], label='success')\n",
    "plt.plot(ratio, fail[0:16], label='fail')\n",
    "plt.xlabel('M/N')\n",
    "plt.legend()\n",
    "plt.show()\n",
    "#plt.savefig('SperFail_by_ratio.jpg', bbox_inches='tight', dpi=150)"
   ]
  },
  {
   "cell_type": "code",
   "execution_count": 17,
   "metadata": {},
   "outputs": [],
   "source": [
    "problem = AmplificationProblem(oracle, is_good_state=sample)\n",
    "grover = Grover(iterations=100, sample_from_iterations=True)"
   ]
  },
  {
   "cell_type": "code",
   "execution_count": 18,
   "metadata": {},
   "outputs": [
    {
     "data": {
      "text/plain": [
       "3"
      ]
     },
     "execution_count": 18,
     "metadata": {},
     "output_type": "execute_result"
    }
   ],
   "source": [
    "iterations = Grover.optimal_num_iterations(num_solutions=1, num_qubits=4)\n",
    "iterations"
   ]
  },
  {
   "cell_type": "code",
   "execution_count": 19,
   "metadata": {},
   "outputs": [
    {
     "ename": "NameError",
     "evalue": "name 'GroverOperator' is not defined",
     "output_type": "error",
     "traceback": [
      "\u001b[1;31m---------------------------------------------------------------------------\u001b[0m",
      "\u001b[1;31mNameError\u001b[0m                                 Traceback (most recent call last)",
      "\u001b[1;32m~\\AppData\\Local\\Temp/ipykernel_11476/1000643296.py\u001b[0m in \u001b[0;36m<module>\u001b[1;34m\u001b[0m\n\u001b[1;32m----> 1\u001b[1;33m \u001b[0mgrover_op\u001b[0m \u001b[1;33m=\u001b[0m \u001b[0mGroverOperator\u001b[0m\u001b[1;33m(\u001b[0m\u001b[0moracle\u001b[0m\u001b[1;33m,\u001b[0m \u001b[0minsert_barriers\u001b[0m\u001b[1;33m=\u001b[0m\u001b[1;32mTrue\u001b[0m\u001b[1;33m)\u001b[0m\u001b[1;33m\u001b[0m\u001b[1;33m\u001b[0m\u001b[0m\n\u001b[0m\u001b[0;32m      2\u001b[0m \u001b[0mgrover_op\u001b[0m\u001b[1;33m.\u001b[0m\u001b[0mdecompose\u001b[0m\u001b[1;33m(\u001b[0m\u001b[1;33m)\u001b[0m\u001b[1;33m.\u001b[0m\u001b[0mdraw\u001b[0m\u001b[1;33m(\u001b[0m\u001b[0moutput\u001b[0m\u001b[1;33m=\u001b[0m\u001b[1;34m'mpl'\u001b[0m\u001b[1;33m)\u001b[0m\u001b[1;33m\u001b[0m\u001b[1;33m\u001b[0m\u001b[0m\n",
      "\u001b[1;31mNameError\u001b[0m: name 'GroverOperator' is not defined"
     ]
    }
   ],
   "source": [
    "grover_op = GroverOperator(oracle, insert_barriers=True)\n",
    "grover_op.decompose().draw(output='mpl')"
   ]
  },
  {
   "cell_type": "code",
   "execution_count": null,
   "metadata": {},
   "outputs": [
    {
     "data": {
      "image/png": "[encoded data removed]",
      "text/plain": [
       "<Figure size 547.514x204.68 with 1 Axes>"
      ]
     },
     "execution_count": 146,
     "metadata": {},
     "output_type": "execute_result"
    }
   ],
   "source": [
    "\n",
    "oracle = QuantumCircuit(3)\n",
    "oracle.cz(0, 1)\n",
    "oracle.cz(1,2)\n",
    "good_state = '110'\n",
    "problem = AmplificationProblem(oracle, is_good_state=good_state)\n",
    "\n",
    "grover_circs = []\n",
    "for iteration in range(0,20): #experimental test for multiple iterations\n",
    "    grover = Grover(iterations=iteration)\n",
    "    circuit = grover.construct_circuit(problem) #this constructs the grover circ from the amplification problem, given a sample\n",
    "    circuit.measure_all()\n",
    "    grover_circs.append(circuit)\n",
    "\n",
    "grover_circs[1].draw()\n",
    "problem.grover_operator.decompose().draw(output='mpl')"
   ]
  },
  {
   "cell_type": "code",
   "execution_count": null,
   "metadata": {},
   "outputs": [
    {
     "name": "stdout",
     "output_type": "stream",
     "text": [
      "Job Status: job has successfully run\n"
     ]
    }
   ],
   "source": [
    "from qiskit.tools.monitor import job_monitor\n",
    "transpiled_grover_circuit = transpile(grover_circs[1], backend, optimization_level=3)\n",
    "job = backend.run(transpiled_grover_circuit)\n",
    "job_monitor(job, interval=2)\n",
    "answers = []\n",
    "\n",
    "for i in range(0,20):\n",
    "    job = execute(grover_circs[i], backend, shots = 1024)\n",
    "    result = job.result()\n",
    "    result.get_counts()\n",
    "    results = job.result()\n",
    "    answer = results.get_counts(grover_circs[i])\n",
    "  \n",
    "\n",
    "\n"
   ]
  },
  {
   "cell_type": "code",
   "execution_count": null,
   "metadata": {},
   "outputs": [
    {
     "data": {
      "image/png": "[encoded data removed]",
      "text/plain": [
       "<Figure size 504x360 with 1 Axes>"
      ]
     },
     "execution_count": 156,
     "metadata": {},
     "output_type": "execute_result"
    }
   ],
   "source": [
    "transpiled_qc = transpile(grover_circs[3], aer_simulator)\n",
    "qobj = assemble(transpiled_qc)\n",
    "result = aer_simulator.run(qobj).result()\n",
    "plot_histogram(result.get_counts())"
   ]
  },
  {
   "cell_type": "markdown",
   "metadata": {},
   "source": [
    "stackoverflow megoldás"
   ]
  },
  {
   "cell_type": "code",
   "execution_count": null,
   "metadata": {},
   "outputs": [
    {
     "data": {
      "text/html": [
       "<pre style=\"word-wrap: normal;white-space: pre;background: #fff0;line-height: 1.1;font-family: &quot;Courier New&quot;,Courier,monospace\">               \n",
       "q_0: ───────■──\n",
       "            │  \n",
       "q_1: ──■────■──\n",
       "       │    │  \n",
       "q_2: ──o────┼──\n",
       "     ┌─┴─┐┌─┴─┐\n",
       "q_3: ┤ X ├┤ X ├\n",
       "     └───┘└───┘</pre>"
      ],
      "text/plain": [
       "               \n",
       "q_0: ───────■──\n",
       "            │  \n",
       "q_1: ──■────■──\n",
       "       │    │  \n",
       "q_2: ──o────┼──\n",
       "     ┌─┴─┐┌─┴─┐\n",
       "q_3: ┤ X ├┤ X ├\n",
       "     └───┘└───┘"
      ]
     },
     "execution_count": 111,
     "metadata": {},
     "output_type": "execute_result"
    }
   ],
   "source": [
    "from qiskit.circuit import QuantumCircuit\n",
    "from qiskit.circuit.classicalfunction import classical_function\n",
    "from qiskit.circuit.classicalfunction.types import Int1\n",
    "#from qiskit.circuit.classicalfunction import Int1\n",
    "\n",
    "# define a classical function that can be turned into a circuit\n",
    "@classical_function\n",
    "def oracle(x1: Int1, x2: Int1, x3: Int1) -> Int1:\n",
    "    return (x1 and x2 and x3) or (not x1 and x2 and not x3)\n",
    "\n",
    "bitcircuit = oracle.synth()  # turn it into a circuit\n",
    "bitcircuit.draw()\n"
   ]
  },
  {
   "cell_type": "code",
   "execution_count": null,
   "metadata": {},
   "outputs": [
    {
     "data": {
      "text/html": [
       "<pre style=\"word-wrap: normal;white-space: pre;background: #fff0;line-height: 1.1;font-family: &quot;Courier New&quot;,Courier,monospace\">     ┌───┐┌─────────┐\n",
       "q_0: ┤ H ├┤0        ├\n",
       "     ├───┤│         │\n",
       "q_1: ┤ H ├┤1        ├\n",
       "     ├───┤│  Oracle │\n",
       "q_2: ┤ H ├┤2        ├\n",
       "     ├───┤│         │\n",
       "q_3: ┤ H ├┤3        ├\n",
       "     └───┘└─────────┘\n",
       "c_0: ════════════════\n",
       "                     \n",
       "c_1: ════════════════\n",
       "                     \n",
       "c_2: ════════════════\n",
       "                     \n",
       "c_3: ════════════════\n",
       "                     </pre>"
      ],
      "text/plain": [
       "     ┌───┐┌─────────┐\n",
       "q_0: ┤ H ├┤0        ├\n",
       "     ├───┤│         │\n",
       "q_1: ┤ H ├┤1        ├\n",
       "     ├───┤│  Oracle │\n",
       "q_2: ┤ H ├┤2        ├\n",
       "     ├───┤│         │\n",
       "q_3: ┤ H ├┤3        ├\n",
       "     └───┘└─────────┘\n",
       "c_0: ════════════════\n",
       "                     \n",
       "c_1: ════════════════\n",
       "                     \n",
       "c_2: ════════════════\n",
       "                     \n",
       "c_3: ════════════════\n",
       "                     "
      ]
     },
     "execution_count": 114,
     "metadata": {},
     "output_type": "execute_result"
    }
   ],
   "source": [
    "\n",
    "phaseoracle = QuantumCircuit(4)\n",
    "phaseoracle.x(3)\n",
    "phaseoracle.h(3)\n",
    "phaseoracle.compose(bitcircuit, inplace=True)\n",
    "phaseoracle.h(3)\n",
    "phaseoracle.x(3)\n",
    "\n",
    "backend = Aer.get_backend('statevector_simulator')\n",
    "grover_circ = QuantumCircuit(4,4) #4 qbits, 4 classical registers\n",
    "grover_circ.h([0,1,2,3]) #perpare superpos state with hadamard gate\n",
    "grover_circ.append(oracle, [0,1,2,3])\n",
    "grover_circ.draw()"
   ]
  },
  {
   "cell_type": "code",
   "execution_count": null,
   "metadata": {},
   "outputs": [],
   "source": [
    "def diffuser(nqubits):\n",
    "    qc = QuantumCircuit(nqubits)\n",
    "    # Apply transformation |s> -> |00..0> (H-gates)\n",
    "    for qubit in range(nqubits):\n",
    "        qc.h(qubit)\n",
    "    # Apply transformation |00..0> -> |11..1> (X-gates)\n",
    "    for qubit in range(nqubits):\n",
    "        qc.x(qubit)\n",
    "    # Do multi-controlled-Z gate\n",
    "    qc.h(nqubits-1)\n",
    "    qc.mct(list(range(nqubits-1)), nqubits-1)  # multi-controlled-toffoli\n",
    "    qc.h(nqubits-1)\n",
    "    # Apply transformation |11..1> -> |00..0>\n",
    "    for qubit in range(nqubits):\n",
    "        qc.x(qubit)\n",
    "    # Apply transformation |00..0> -> |s>\n",
    "    for qubit in range(nqubits):\n",
    "        qc.h(qubit)\n",
    "    # We will return the diffuser as a gate\n",
    "    U_s = qc.to_gate()\n",
    "    U_s.name = \"U_s\"\n",
    "    return U_s"
   ]
  },
  {
   "cell_type": "code",
   "execution_count": null,
   "metadata": {},
   "outputs": [],
   "source": [
    "backend = Aer.get_backend('qasm_simulator')\n",
    "\n",
    "n = 3\n",
    "qr = QuantumRegister(n, 'q')\n",
    "cr = ClassicalRegister(n, 'c')\n",
    "\n",
    "quantcirc = QuantumCircuit(qr,cr)\n",
    "\n",
    "quantcirc.h(qr[0:n])\n",
    "\n",
    "quantcirc.append(oracle, [0,1,2])\n",
    "quantcirc.append(diffuser(n), [0,1,2])\n",
    "\n",
    "\n",
    "quantcirc.measure(qr,cr)\n",
    "\n",
    "quantcirc.draw()"
   ]
  }
 ],
 "metadata": {
  "kernelspec": {
   "display_name": "Python 3.9.6 ('base')",
   "language": "python",
   "name": "python3"
  },
  "language_info": {
   "codemirror_mode": {
    "name": "ipython",
    "version": 3
   },
   "file_extension": ".py",
   "mimetype": "text/x-python",
   "name": "python",
   "nbconvert_exporter": "python",
   "pygments_lexer": "ipython3",
   "version": "3.9.6"
  },
  "orig_nbformat": 4,
  "vscode": {
   "interpreter": {
    "hash": "febffbf1abe600e9ff9516a81f31ebff4580950e9863d966149071f0505ac46d"
   }
  }
 },
 "nbformat": 4,
 "nbformat_minor": 2
}
